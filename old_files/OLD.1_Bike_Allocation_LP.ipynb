{
 "cells": [
  {
   "cell_type": "markdown",
   "id": "ecd7b10b",
   "metadata": {},
   "source": [
    "# Imports"
   ]
  },
  {
   "cell_type": "code",
   "execution_count": 2,
   "id": "8327ff02",
   "metadata": {},
   "outputs": [],
   "source": [
    "import scipy\n",
    "from scipy.optimize import linprog\n",
    "#scipy.__version__\n",
    "\n",
    "import requests\n",
    "import pandas as pd"
   ]
  },
  {
   "cell_type": "markdown",
   "id": "c9b94712",
   "metadata": {},
   "source": [
    "# JSON Live Station Data"
   ]
  },
  {
   "cell_type": "code",
   "execution_count": 3,
   "id": "bb7851f9",
   "metadata": {},
   "outputs": [],
   "source": [
    "station_info_response = requests.get(\"https://gbfs.citibikenyc.com/gbfs/en/station_information.json\").json()\n",
    "station_info = pd.DataFrame(station_info_response['data']['stations'])[[\"station_id\",\"name\",\"lon\",\"lat\"]]\n",
    "\n",
    "station_status_response = requests.get(\"https://gbfs.citibikenyc.com/gbfs/en/station_status.json\").json()\n",
    "station_status = pd.DataFrame(station_status_response['data']['stations'])[[\"station_id\",\"num_docks_available\",\"num_bikes_available\"]]"
   ]
  },
  {
   "cell_type": "code",
   "execution_count": 4,
   "id": "876d2f84",
   "metadata": {},
   "outputs": [
    {
     "data": {
      "text/html": [
       "<div>\n",
       "<style scoped>\n",
       "    .dataframe tbody tr th:only-of-type {\n",
       "        vertical-align: middle;\n",
       "    }\n",
       "\n",
       "    .dataframe tbody tr th {\n",
       "        vertical-align: top;\n",
       "    }\n",
       "\n",
       "    .dataframe thead th {\n",
       "        text-align: right;\n",
       "    }\n",
       "</style>\n",
       "<table border=\"1\" class=\"dataframe\">\n",
       "  <thead>\n",
       "    <tr style=\"text-align: right;\">\n",
       "      <th></th>\n",
       "      <th>station_id</th>\n",
       "      <th>name</th>\n",
       "      <th>lon</th>\n",
       "      <th>lat</th>\n",
       "    </tr>\n",
       "  </thead>\n",
       "  <tbody>\n",
       "    <tr>\n",
       "      <th>0</th>\n",
       "      <td>72</td>\n",
       "      <td>W 52 St &amp; 11 Ave</td>\n",
       "      <td>-73.993929</td>\n",
       "      <td>40.767272</td>\n",
       "    </tr>\n",
       "    <tr>\n",
       "      <th>1</th>\n",
       "      <td>79</td>\n",
       "      <td>Franklin St &amp; W Broadway</td>\n",
       "      <td>-74.006667</td>\n",
       "      <td>40.719116</td>\n",
       "    </tr>\n",
       "    <tr>\n",
       "      <th>2</th>\n",
       "      <td>82</td>\n",
       "      <td>St James Pl &amp; Pearl St</td>\n",
       "      <td>-74.000165</td>\n",
       "      <td>40.711174</td>\n",
       "    </tr>\n",
       "    <tr>\n",
       "      <th>3</th>\n",
       "      <td>83</td>\n",
       "      <td>Atlantic Ave &amp; Fort Greene Pl</td>\n",
       "      <td>-73.976323</td>\n",
       "      <td>40.683826</td>\n",
       "    </tr>\n",
       "    <tr>\n",
       "      <th>4</th>\n",
       "      <td>116</td>\n",
       "      <td>W 17 St &amp; 8 Ave</td>\n",
       "      <td>-74.001497</td>\n",
       "      <td>40.741776</td>\n",
       "    </tr>\n",
       "  </tbody>\n",
       "</table>\n",
       "</div>"
      ],
      "text/plain": [
       "  station_id                           name        lon        lat\n",
       "0         72               W 52 St & 11 Ave -73.993929  40.767272\n",
       "1         79       Franklin St & W Broadway -74.006667  40.719116\n",
       "2         82         St James Pl & Pearl St -74.000165  40.711174\n",
       "3         83  Atlantic Ave & Fort Greene Pl -73.976323  40.683826\n",
       "4        116                W 17 St & 8 Ave -74.001497  40.741776"
      ]
     },
     "execution_count": 4,
     "metadata": {},
     "output_type": "execute_result"
    }
   ],
   "source": [
    "station_info.head(5)"
   ]
  },
  {
   "cell_type": "code",
   "execution_count": 5,
   "id": "2fddf294",
   "metadata": {},
   "outputs": [
    {
     "data": {
      "text/html": [
       "<div>\n",
       "<style scoped>\n",
       "    .dataframe tbody tr th:only-of-type {\n",
       "        vertical-align: middle;\n",
       "    }\n",
       "\n",
       "    .dataframe tbody tr th {\n",
       "        vertical-align: top;\n",
       "    }\n",
       "\n",
       "    .dataframe thead th {\n",
       "        text-align: right;\n",
       "    }\n",
       "</style>\n",
       "<table border=\"1\" class=\"dataframe\">\n",
       "  <thead>\n",
       "    <tr style=\"text-align: right;\">\n",
       "      <th></th>\n",
       "      <th>station_id</th>\n",
       "      <th>num_docks_available</th>\n",
       "      <th>num_bikes_available</th>\n",
       "    </tr>\n",
       "  </thead>\n",
       "  <tbody>\n",
       "    <tr>\n",
       "      <th>0</th>\n",
       "      <td>72</td>\n",
       "      <td>17</td>\n",
       "      <td>0</td>\n",
       "    </tr>\n",
       "    <tr>\n",
       "      <th>1</th>\n",
       "      <td>79</td>\n",
       "      <td>29</td>\n",
       "      <td>2</td>\n",
       "    </tr>\n",
       "    <tr>\n",
       "      <th>2</th>\n",
       "      <td>82</td>\n",
       "      <td>0</td>\n",
       "      <td>26</td>\n",
       "    </tr>\n",
       "    <tr>\n",
       "      <th>3</th>\n",
       "      <td>83</td>\n",
       "      <td>33</td>\n",
       "      <td>24</td>\n",
       "    </tr>\n",
       "    <tr>\n",
       "      <th>4</th>\n",
       "      <td>116</td>\n",
       "      <td>11</td>\n",
       "      <td>58</td>\n",
       "    </tr>\n",
       "  </tbody>\n",
       "</table>\n",
       "</div>"
      ],
      "text/plain": [
       "  station_id  num_docks_available  num_bikes_available\n",
       "0         72                   17                    0\n",
       "1         79                   29                    2\n",
       "2         82                    0                   26\n",
       "3         83                   33                   24\n",
       "4        116                   11                   58"
      ]
     },
     "execution_count": 5,
     "metadata": {},
     "output_type": "execute_result"
    }
   ],
   "source": [
    "station_status.head(5)"
   ]
  },
  {
   "cell_type": "code",
   "execution_count": 6,
   "id": "8993da77",
   "metadata": {},
   "outputs": [],
   "source": [
    "station_merged = pd.merge(station_status,station_info,how='left')"
   ]
  },
  {
   "cell_type": "code",
   "execution_count": 7,
   "id": "ec70e2ab",
   "metadata": {},
   "outputs": [
    {
     "data": {
      "text/html": [
       "<div>\n",
       "<style scoped>\n",
       "    .dataframe tbody tr th:only-of-type {\n",
       "        vertical-align: middle;\n",
       "    }\n",
       "\n",
       "    .dataframe tbody tr th {\n",
       "        vertical-align: top;\n",
       "    }\n",
       "\n",
       "    .dataframe thead th {\n",
       "        text-align: right;\n",
       "    }\n",
       "</style>\n",
       "<table border=\"1\" class=\"dataframe\">\n",
       "  <thead>\n",
       "    <tr style=\"text-align: right;\">\n",
       "      <th></th>\n",
       "      <th>station_id</th>\n",
       "      <th>num_docks_available</th>\n",
       "      <th>num_bikes_available</th>\n",
       "      <th>name</th>\n",
       "      <th>lon</th>\n",
       "      <th>lat</th>\n",
       "    </tr>\n",
       "  </thead>\n",
       "  <tbody>\n",
       "    <tr>\n",
       "      <th>0</th>\n",
       "      <td>72</td>\n",
       "      <td>17</td>\n",
       "      <td>0</td>\n",
       "      <td>W 52 St &amp; 11 Ave</td>\n",
       "      <td>-73.993929</td>\n",
       "      <td>40.767272</td>\n",
       "    </tr>\n",
       "    <tr>\n",
       "      <th>1</th>\n",
       "      <td>79</td>\n",
       "      <td>29</td>\n",
       "      <td>2</td>\n",
       "      <td>Franklin St &amp; W Broadway</td>\n",
       "      <td>-74.006667</td>\n",
       "      <td>40.719116</td>\n",
       "    </tr>\n",
       "    <tr>\n",
       "      <th>2</th>\n",
       "      <td>82</td>\n",
       "      <td>0</td>\n",
       "      <td>26</td>\n",
       "      <td>St James Pl &amp; Pearl St</td>\n",
       "      <td>-74.000165</td>\n",
       "      <td>40.711174</td>\n",
       "    </tr>\n",
       "    <tr>\n",
       "      <th>3</th>\n",
       "      <td>83</td>\n",
       "      <td>33</td>\n",
       "      <td>24</td>\n",
       "      <td>Atlantic Ave &amp; Fort Greene Pl</td>\n",
       "      <td>-73.976323</td>\n",
       "      <td>40.683826</td>\n",
       "    </tr>\n",
       "    <tr>\n",
       "      <th>4</th>\n",
       "      <td>116</td>\n",
       "      <td>11</td>\n",
       "      <td>58</td>\n",
       "      <td>W 17 St &amp; 8 Ave</td>\n",
       "      <td>-74.001497</td>\n",
       "      <td>40.741776</td>\n",
       "    </tr>\n",
       "  </tbody>\n",
       "</table>\n",
       "</div>"
      ],
      "text/plain": [
       "  station_id  num_docks_available  num_bikes_available  \\\n",
       "0         72                   17                    0   \n",
       "1         79                   29                    2   \n",
       "2         82                    0                   26   \n",
       "3         83                   33                   24   \n",
       "4        116                   11                   58   \n",
       "\n",
       "                            name        lon        lat  \n",
       "0               W 52 St & 11 Ave -73.993929  40.767272  \n",
       "1       Franklin St & W Broadway -74.006667  40.719116  \n",
       "2         St James Pl & Pearl St -74.000165  40.711174  \n",
       "3  Atlantic Ave & Fort Greene Pl -73.976323  40.683826  \n",
       "4                W 17 St & 8 Ave -74.001497  40.741776  "
      ]
     },
     "execution_count": 7,
     "metadata": {},
     "output_type": "execute_result"
    }
   ],
   "source": [
    "station_merged.head(5)"
   ]
  },
  {
   "cell_type": "code",
   "execution_count": 8,
   "id": "7510ce89",
   "metadata": {},
   "outputs": [
    {
     "name": "stdout",
     "output_type": "stream",
     "text": [
      "(1791, 4)\n",
      "(1791, 3)\n",
      "(1791, 6)\n"
     ]
    }
   ],
   "source": [
    "print(station_info.shape)\n",
    "print(station_status.shape)\n",
    "print(station_merged.shape)"
   ]
  },
  {
   "cell_type": "markdown",
   "id": "2702ebb2",
   "metadata": {},
   "source": [
    "# LP model with a test data_set\n",
    "The LP with 1000 stations takes considerably long. The Heuristic model should be used for less optimized but a faster model."
   ]
  },
  {
   "cell_type": "code",
   "execution_count": 124,
   "id": "0b2b0fd3",
   "metadata": {},
   "outputs": [],
   "source": [
    "df = pd.read_csv(\"/Users/dehaay/Desktop/BikeShare Project/experiment/allocation_mock_data.csv\").iloc[3:11]"
   ]
  },
  {
   "cell_type": "code",
   "execution_count": 125,
   "id": "31710267",
   "metadata": {},
   "outputs": [
    {
     "data": {
      "text/html": [
       "<div>\n",
       "<style scoped>\n",
       "    .dataframe tbody tr th:only-of-type {\n",
       "        vertical-align: middle;\n",
       "    }\n",
       "\n",
       "    .dataframe tbody tr th {\n",
       "        vertical-align: top;\n",
       "    }\n",
       "\n",
       "    .dataframe thead th {\n",
       "        text-align: right;\n",
       "    }\n",
       "</style>\n",
       "<table border=\"1\" class=\"dataframe\">\n",
       "  <thead>\n",
       "    <tr style=\"text-align: right;\">\n",
       "      <th></th>\n",
       "      <th>Station names</th>\n",
       "      <th>capacity %</th>\n",
       "      <th>bike count in an hour</th>\n",
       "      <th>station capacity</th>\n",
       "      <th>x cord</th>\n",
       "      <th>y cord</th>\n",
       "    </tr>\n",
       "  </thead>\n",
       "  <tbody>\n",
       "    <tr>\n",
       "      <th>3</th>\n",
       "      <td>D</td>\n",
       "      <td>78%</td>\n",
       "      <td>69</td>\n",
       "      <td>89</td>\n",
       "      <td>66</td>\n",
       "      <td>32</td>\n",
       "    </tr>\n",
       "    <tr>\n",
       "      <th>4</th>\n",
       "      <td>E</td>\n",
       "      <td>63%</td>\n",
       "      <td>40</td>\n",
       "      <td>64</td>\n",
       "      <td>95</td>\n",
       "      <td>69</td>\n",
       "    </tr>\n",
       "    <tr>\n",
       "      <th>5</th>\n",
       "      <td>F</td>\n",
       "      <td>102%</td>\n",
       "      <td>49</td>\n",
       "      <td>48</td>\n",
       "      <td>4</td>\n",
       "      <td>75</td>\n",
       "    </tr>\n",
       "    <tr>\n",
       "      <th>6</th>\n",
       "      <td>G</td>\n",
       "      <td>93%</td>\n",
       "      <td>65</td>\n",
       "      <td>70</td>\n",
       "      <td>52</td>\n",
       "      <td>90</td>\n",
       "    </tr>\n",
       "    <tr>\n",
       "      <th>7</th>\n",
       "      <td>H</td>\n",
       "      <td>75%</td>\n",
       "      <td>56</td>\n",
       "      <td>75</td>\n",
       "      <td>18</td>\n",
       "      <td>15</td>\n",
       "    </tr>\n",
       "    <tr>\n",
       "      <th>8</th>\n",
       "      <td>I</td>\n",
       "      <td>6%</td>\n",
       "      <td>3</td>\n",
       "      <td>47</td>\n",
       "      <td>89</td>\n",
       "      <td>98</td>\n",
       "    </tr>\n",
       "    <tr>\n",
       "      <th>9</th>\n",
       "      <td>J</td>\n",
       "      <td>71%</td>\n",
       "      <td>63</td>\n",
       "      <td>89</td>\n",
       "      <td>74</td>\n",
       "      <td>42</td>\n",
       "    </tr>\n",
       "    <tr>\n",
       "      <th>10</th>\n",
       "      <td>K</td>\n",
       "      <td>84%</td>\n",
       "      <td>57</td>\n",
       "      <td>68</td>\n",
       "      <td>58</td>\n",
       "      <td>37</td>\n",
       "    </tr>\n",
       "  </tbody>\n",
       "</table>\n",
       "</div>"
      ],
      "text/plain": [
       "   Station names capacity %  bike count in an hour  station capacity  x cord  \\\n",
       "3              D        78%                     69                89      66   \n",
       "4              E        63%                     40                64      95   \n",
       "5              F       102%                     49                48       4   \n",
       "6              G        93%                     65                70      52   \n",
       "7              H        75%                     56                75      18   \n",
       "8              I         6%                      3                47      89   \n",
       "9              J        71%                     63                89      74   \n",
       "10             K        84%                     57                68      58   \n",
       "\n",
       "    y cord  \n",
       "3       32  \n",
       "4       69  \n",
       "5       75  \n",
       "6       90  \n",
       "7       15  \n",
       "8       98  \n",
       "9       42  \n",
       "10      37  "
      ]
     },
     "execution_count": 125,
     "metadata": {},
     "output_type": "execute_result"
    }
   ],
   "source": [
    "df"
   ]
  },
  {
   "cell_type": "code",
   "execution_count": 126,
   "id": "5ece9023",
   "metadata": {},
   "outputs": [
    {
     "data": {
      "text/plain": [
       "0.730909090909091"
      ]
     },
     "execution_count": 126,
     "metadata": {},
     "output_type": "execute_result"
    }
   ],
   "source": [
    "equilibrium_percent = df[\"bike count in an hour\"].sum() / df[\"station capacity\"].sum()\n",
    "equilibrium_percent"
   ]
  },
  {
   "cell_type": "code",
   "execution_count": 127,
   "id": "38946eba",
   "metadata": {},
   "outputs": [],
   "source": [
    "df[\"give_away_stock\"] = -(round(df[\"station capacity\"] * equilibrium_percent) - df[\"bike count in an hour\"])"
   ]
  },
  {
   "cell_type": "code",
   "execution_count": 128,
   "id": "0fd708b1",
   "metadata": {},
   "outputs": [
    {
     "data": {
      "text/html": [
       "<div>\n",
       "<style scoped>\n",
       "    .dataframe tbody tr th:only-of-type {\n",
       "        vertical-align: middle;\n",
       "    }\n",
       "\n",
       "    .dataframe tbody tr th {\n",
       "        vertical-align: top;\n",
       "    }\n",
       "\n",
       "    .dataframe thead th {\n",
       "        text-align: right;\n",
       "    }\n",
       "</style>\n",
       "<table border=\"1\" class=\"dataframe\">\n",
       "  <thead>\n",
       "    <tr style=\"text-align: right;\">\n",
       "      <th></th>\n",
       "      <th>Station names</th>\n",
       "      <th>capacity %</th>\n",
       "      <th>bike count in an hour</th>\n",
       "      <th>station capacity</th>\n",
       "      <th>x cord</th>\n",
       "      <th>y cord</th>\n",
       "      <th>give_away_stock</th>\n",
       "    </tr>\n",
       "  </thead>\n",
       "  <tbody>\n",
       "    <tr>\n",
       "      <th>3</th>\n",
       "      <td>D</td>\n",
       "      <td>78%</td>\n",
       "      <td>69</td>\n",
       "      <td>89</td>\n",
       "      <td>66</td>\n",
       "      <td>32</td>\n",
       "      <td>4.0</td>\n",
       "    </tr>\n",
       "    <tr>\n",
       "      <th>4</th>\n",
       "      <td>E</td>\n",
       "      <td>63%</td>\n",
       "      <td>40</td>\n",
       "      <td>64</td>\n",
       "      <td>95</td>\n",
       "      <td>69</td>\n",
       "      <td>-7.0</td>\n",
       "    </tr>\n",
       "    <tr>\n",
       "      <th>5</th>\n",
       "      <td>F</td>\n",
       "      <td>102%</td>\n",
       "      <td>49</td>\n",
       "      <td>48</td>\n",
       "      <td>4</td>\n",
       "      <td>75</td>\n",
       "      <td>14.0</td>\n",
       "    </tr>\n",
       "    <tr>\n",
       "      <th>6</th>\n",
       "      <td>G</td>\n",
       "      <td>93%</td>\n",
       "      <td>65</td>\n",
       "      <td>70</td>\n",
       "      <td>52</td>\n",
       "      <td>90</td>\n",
       "      <td>14.0</td>\n",
       "    </tr>\n",
       "    <tr>\n",
       "      <th>7</th>\n",
       "      <td>H</td>\n",
       "      <td>75%</td>\n",
       "      <td>56</td>\n",
       "      <td>75</td>\n",
       "      <td>18</td>\n",
       "      <td>15</td>\n",
       "      <td>1.0</td>\n",
       "    </tr>\n",
       "    <tr>\n",
       "      <th>8</th>\n",
       "      <td>I</td>\n",
       "      <td>6%</td>\n",
       "      <td>3</td>\n",
       "      <td>47</td>\n",
       "      <td>89</td>\n",
       "      <td>98</td>\n",
       "      <td>-31.0</td>\n",
       "    </tr>\n",
       "    <tr>\n",
       "      <th>9</th>\n",
       "      <td>J</td>\n",
       "      <td>71%</td>\n",
       "      <td>63</td>\n",
       "      <td>89</td>\n",
       "      <td>74</td>\n",
       "      <td>42</td>\n",
       "      <td>-2.0</td>\n",
       "    </tr>\n",
       "    <tr>\n",
       "      <th>10</th>\n",
       "      <td>K</td>\n",
       "      <td>84%</td>\n",
       "      <td>57</td>\n",
       "      <td>68</td>\n",
       "      <td>58</td>\n",
       "      <td>37</td>\n",
       "      <td>7.0</td>\n",
       "    </tr>\n",
       "  </tbody>\n",
       "</table>\n",
       "</div>"
      ],
      "text/plain": [
       "   Station names capacity %  bike count in an hour  station capacity  x cord  \\\n",
       "3              D        78%                     69                89      66   \n",
       "4              E        63%                     40                64      95   \n",
       "5              F       102%                     49                48       4   \n",
       "6              G        93%                     65                70      52   \n",
       "7              H        75%                     56                75      18   \n",
       "8              I         6%                      3                47      89   \n",
       "9              J        71%                     63                89      74   \n",
       "10             K        84%                     57                68      58   \n",
       "\n",
       "    y cord  give_away_stock  \n",
       "3       32              4.0  \n",
       "4       69             -7.0  \n",
       "5       75             14.0  \n",
       "6       90             14.0  \n",
       "7       15              1.0  \n",
       "8       98            -31.0  \n",
       "9       42             -2.0  \n",
       "10      37              7.0  "
      ]
     },
     "execution_count": 128,
     "metadata": {},
     "output_type": "execute_result"
    }
   ],
   "source": [
    "df"
   ]
  },
  {
   "cell_type": "code",
   "execution_count": 129,
   "id": "0adae284",
   "metadata": {},
   "outputs": [],
   "source": [
    "import itertools\n",
    "cross_product = list(itertools.product(df[\"Station names\"],df[\"Station names\"]))\n",
    "station_combinations = [\"_\".join([i,b]) for i,b in cross_product if i != b]"
   ]
  },
  {
   "cell_type": "code",
   "execution_count": 130,
   "id": "ec2c6fc9",
   "metadata": {},
   "outputs": [],
   "source": [
    "cross_product = list(itertools.product(zip(df[\"Station names\"],df[\"x cord\"],df[\"y cord\"]),zip(df[\"Station names\"],df[\"x cord\"],df[\"y cord\"]) ))\n",
    "x_cord_diff = [ abs(i[1]-b[1]) for i,b in cross_product if i[0] != b[0]]\n",
    "y_cord_diff = [ abs(i[2]-b[2]) for i,b in cross_product if i[0] != b[0]]"
   ]
  },
  {
   "cell_type": "code",
   "execution_count": 131,
   "id": "9cdaa5da",
   "metadata": {},
   "outputs": [],
   "source": [
    "distance_combinations = [sum(i) for i in zip(x_cord_diff, y_cord_diff )] "
   ]
  },
  {
   "cell_type": "code",
   "execution_count": 132,
   "id": "eb797abd",
   "metadata": {},
   "outputs": [
    {
     "data": {
      "text/plain": [
       "56"
      ]
     },
     "execution_count": 132,
     "metadata": {},
     "output_type": "execute_result"
    }
   ],
   "source": [
    "len(station_combinations)"
   ]
  },
  {
   "cell_type": "code",
   "execution_count": 133,
   "id": "286264c5",
   "metadata": {},
   "outputs": [
    {
     "data": {
      "text/plain": [
       "56"
      ]
     },
     "execution_count": 133,
     "metadata": {},
     "output_type": "execute_result"
    }
   ],
   "source": [
    "len(distance_combinations)"
   ]
  },
  {
   "cell_type": "markdown",
   "id": "8726965f",
   "metadata": {},
   "source": [
    "## LP formulation\n",
    "\n",
    "Objective function\n",
    "\n",
    "\\begin{equation*}\n",
    "{\\begin{array}{1ll}\n",
    "\\small\\text{Minimize} \\Large\\sum\\limits_{i}^{A} \\sum\\limits_{j}^{A}S_{ij} \\times x_{ij} \\\\\n",
    "& \\small\\text{$S_{ij}$ is transfer realtion between station i and j where i $\\neq$ j} \\\\[2pt]\n",
    "& \\small\\text{A: all stations} \\\\[2pt]\n",
    "& \\small\\text{x: distance between station i and j} \\\\[2pt]\n",
    "\\end{array}}\n",
    "\\end{equation*}\n"
   ]
  },
  {
   "cell_type": "markdown",
   "id": "b16aed0a",
   "metadata": {},
   "source": [
    "\n",
    "\\begin{cases}\n",
    "      \\Large\\sum\\limits_{j}^{A} S_{ji} - S_{ij}  = D_i & D_i \\leq 0 \\\\\n",
    "       \\Large\\sum\\limits_{j}^{A} S_{ij} - S_{ji}  = D_i  & D_i \\geq 0 \n",
    "\\end{cases}\n",
    "\n",
    "\\begin{equation*}\n",
    "{\\begin{array}{1ll}\n",
    "\\small\\text{$S_{ij}$ is transfer realtion between station i and j where i $\\neq$ j} \\\\\n",
    "\\small\\text{D_i: Bike demand of station i for reaching the equilibrium}\n",
    "\\end{array}}\n",
    "\\end{equation*}\n"
   ]
  },
  {
   "cell_type": "code",
   "execution_count": 134,
   "id": "238ad2f8",
   "metadata": {},
   "outputs": [
    {
     "name": "stdout",
     "output_type": "stream",
     "text": [
      "56\n"
     ]
    }
   ],
   "source": [
    "## ============================================== ##\n",
    "## Decision Variables                             ## \n",
    "## ============================================== ##\n",
    "VarName = station_combinations\n",
    "\n",
    "## ============================================== ##\n",
    "## Objective function coefficients (minimization) ## \n",
    "## ============================================== ##\n",
    "c = distance_combinations\n",
    "\n",
    "print(len(c))"
   ]
  },
  {
   "cell_type": "code",
   "execution_count": 135,
   "id": "a5e67ba3",
   "metadata": {},
   "outputs": [],
   "source": [
    "## ============================================== ##\n",
    "## Equality constraints                           ## \n",
    "## ============================================== ##\n",
    "import numpy as np\n",
    "A_eq, b_eq = [], []"
   ]
  },
  {
   "cell_type": "code",
   "execution_count": 136,
   "id": "d2785281",
   "metadata": {},
   "outputs": [],
   "source": [
    "for i in range(len(df.index)):\n",
    "    df_instance = df.iloc[i]\n",
    "    give_away_stock = df_instance[\"give_away_stock\"]\n",
    "    station_name = df_instance[\"Station names\"]\n",
    "    \n",
    "    temp_array = np.array([0] * len(c))\n",
    "    reverse_indexes = [count for count,i in enumerate(VarName) if i.split(\"_\")[1] == station_name ]\n",
    "    regular_indexes = [count for count,i in enumerate(VarName) if i.split(\"_\")[0] == station_name ]\n",
    "    \n",
    "\n",
    "    if give_away_stock < 0:\n",
    "\n",
    "        temp_array[reverse_indexes] = 1\n",
    "        temp_array[regular_indexes] = -1\n",
    "        \n",
    "        A_eq.append(temp_array.tolist())\n",
    "        b_eq.append(abs(give_away_stock))\n",
    "        \n",
    "    elif give_away_stock > 0:\n",
    "        \n",
    "        temp_array[reverse_indexes] = -1\n",
    "        temp_array[regular_indexes] = 1\n",
    "        \n",
    "        A_eq.append(temp_array.tolist())\n",
    "        b_eq.append(abs(give_away_stock))\n",
    " \n",
    "    else:\n",
    "        temp_array[reverse_indexes] = 1\n",
    "        temp_array[regular_indexes] = -1\n",
    "        \n",
    "        A_eq.append(temp_array.tolist())\n",
    "        b_eq.append(0)\n"
   ]
  },
  {
   "cell_type": "code",
   "execution_count": 137,
   "id": "4c1ad929",
   "metadata": {},
   "outputs": [],
   "source": [
    "## ============================================== ##\n",
    "## Nonnegativity                                  ## \n",
    "## ============================================== ##\n",
    "lbs = [0]*len(c)\n",
    "ubs = [None]*len(c)\n",
    "bounds = [(lb, ub) for lb, ub in zip(lbs, ubs)]"
   ]
  },
  {
   "cell_type": "code",
   "execution_count": 138,
   "id": "63e7c7b4",
   "metadata": {},
   "outputs": [
    {
     "name": "stdout",
     "output_type": "stream",
     "text": [
      "1*D_E + 1*D_F + 1*D_G + 1*D_H + 1*D_I + 1*D_J + 1*D_K + -1*E_D + -1*F_D + -1*G_D + -1*H_D + -1*I_D + -1*J_D + -1*K_D = 4.0\n",
      "1*D_E + -1*E_D + -1*E_F + -1*E_G + -1*E_H + -1*E_I + -1*E_J + -1*E_K + 1*F_E + 1*G_E + 1*H_E + 1*I_E + 1*J_E + 1*K_E = 7.0\n",
      "-1*D_F + -1*E_F + 1*F_D + 1*F_E + 1*F_G + 1*F_H + 1*F_I + 1*F_J + 1*F_K + -1*G_F + -1*H_F + -1*I_F + -1*J_F + -1*K_F = 14.0\n",
      "-1*D_G + -1*E_G + -1*F_G + 1*G_D + 1*G_E + 1*G_F + 1*G_H + 1*G_I + 1*G_J + 1*G_K + -1*H_G + -1*I_G + -1*J_G + -1*K_G = 14.0\n",
      "-1*D_H + -1*E_H + -1*F_H + -1*G_H + 1*H_D + 1*H_E + 1*H_F + 1*H_G + 1*H_I + 1*H_J + 1*H_K + -1*I_H + -1*J_H + -1*K_H = 1.0\n",
      "1*D_I + 1*E_I + 1*F_I + 1*G_I + 1*H_I + -1*I_D + -1*I_E + -1*I_F + -1*I_G + -1*I_H + -1*I_J + -1*I_K + 1*J_I + 1*K_I = 31.0\n",
      "1*D_J + 1*E_J + 1*F_J + 1*G_J + 1*H_J + 1*I_J + -1*J_D + -1*J_E + -1*J_F + -1*J_G + -1*J_H + -1*J_I + -1*J_K + 1*K_J = 2.0\n",
      "-1*D_K + -1*E_K + -1*F_K + -1*G_K + -1*H_K + -1*I_K + -1*J_K + 1*K_D + 1*K_E + 1*K_F + 1*K_G + 1*K_H + 1*K_I + 1*K_J = 7.0\n"
     ]
    }
   ],
   "source": [
    "## ============================================== ##\n",
    "## Print constraints                              ## \n",
    "## ============================================== ##\n",
    "for row, b in zip(A_eq, b_eq):\n",
    "    print( \" + \".join([repr(ele) + \"*\" + vn for ele, vn in zip(row, VarName) if abs(ele) > 0.0]) + \" = \" + repr(b) )\n"
   ]
  },
  {
   "cell_type": "code",
   "execution_count": 139,
   "id": "2affaf78",
   "metadata": {},
   "outputs": [
    {
     "name": "stdout",
     "output_type": "stream",
     "text": [
      "Optimization terminated successfully.\n",
      "Minimized objective function value :=  2993.0\n",
      "Optimal solution:\n",
      "D_E  :=  2.0\n",
      "D_F  :=  0.0\n",
      "D_G  :=  0.0\n",
      "D_H  :=  0.0\n",
      "D_I  :=  0.0\n",
      "D_J  :=  2.0\n",
      "D_K  :=  0.0\n",
      "E_D  :=  0.0\n",
      "E_F  :=  0.0\n",
      "E_G  :=  0.0\n",
      "E_H  :=  0.0\n",
      "E_I  :=  0.0\n",
      "E_J  :=  0.0\n",
      "E_K  :=  0.0\n",
      "F_D  :=  0.0\n",
      "F_E  :=  0.0\n",
      "F_G  :=  0.0\n",
      "F_H  :=  0.0\n",
      "F_I  :=  14.0\n",
      "F_J  :=  0.0\n",
      "F_K  :=  0.0\n",
      "G_D  :=  0.0\n",
      "G_E  :=  0.0\n",
      "G_F  :=  0.0\n",
      "G_H  :=  0.0\n",
      "G_I  :=  14.0\n",
      "G_J  :=  0.0\n",
      "G_K  :=  0.0\n",
      "H_D  :=  0.0\n",
      "H_E  :=  0.0\n",
      "H_F  :=  0.0\n",
      "H_G  :=  0.0\n",
      "H_I  :=  1.0\n",
      "H_J  :=  0.0\n",
      "H_K  :=  0.0\n",
      "I_D  :=  0.0\n",
      "I_E  :=  0.0\n",
      "I_F  :=  0.0\n",
      "I_G  :=  0.0\n",
      "I_H  :=  0.0\n",
      "I_J  :=  0.0\n",
      "I_K  :=  0.0\n",
      "J_D  :=  0.0\n",
      "J_E  :=  0.0\n",
      "J_F  :=  0.0\n",
      "J_G  :=  0.0\n",
      "J_H  :=  0.0\n",
      "J_I  :=  0.0\n",
      "J_K  :=  0.0\n",
      "K_D  :=  0.0\n",
      "K_E  :=  5.0\n",
      "K_F  :=  0.0\n",
      "K_G  :=  0.0\n",
      "K_H  :=  0.0\n",
      "K_I  :=  2.0\n",
      "K_J  :=  0.0\n"
     ]
    }
   ],
   "source": [
    "## ============================================== ##\n",
    "## Print optimization result                      ## \n",
    "## ============================================== ##\n",
    "res = linprog(c, A_eq = A_eq, b_eq = b_eq, bounds = bounds, method = 'highs')\n",
    "print(res.message)\n",
    "print(\"Minimized objective function value := \", res.fun)\n",
    "print(\"Optimal solution:\")\n",
    "for x, vn in zip(res.x, VarName):\n",
    "    print(vn, \" := \", x)"
   ]
  },
  {
   "cell_type": "markdown",
   "id": "8e7a833f",
   "metadata": {},
   "source": [
    "# Allocation Report"
   ]
  },
  {
   "cell_type": "markdown",
   "id": "ecca9499",
   "metadata": {},
   "source": [
    "$S_1\\_S_2 = N$ is read transfer N bikes from $S_1$ to $S_2 $"
   ]
  },
  {
   "cell_type": "code",
   "execution_count": 140,
   "id": "2652d550",
   "metadata": {},
   "outputs": [
    {
     "data": {
      "text/plain": [
       "[['D_E', 2.0],\n",
       " ['D_J', 2.0],\n",
       " ['F_I', 14.0],\n",
       " ['G_I', 14.0],\n",
       " ['H_I', 1.0],\n",
       " ['K_E', 5.0],\n",
       " ['K_I', 2.0]]"
      ]
     },
     "execution_count": 140,
     "metadata": {},
     "output_type": "execute_result"
    }
   ],
   "source": [
    "[[var,value] for value,var in zip(res.x, VarName) if value > 0]"
   ]
  }
 ],
 "metadata": {
  "kernelspec": {
   "display_name": "Python 3 (ipykernel)",
   "language": "python",
   "name": "python3"
  },
  "language_info": {
   "codemirror_mode": {
    "name": "ipython",
    "version": 3
   },
   "file_extension": ".py",
   "mimetype": "text/x-python",
   "name": "python",
   "nbconvert_exporter": "python",
   "pygments_lexer": "ipython3",
   "version": "3.9.12"
  },
  "toc": {
   "base_numbering": 1,
   "nav_menu": {},
   "number_sections": true,
   "sideBar": true,
   "skip_h1_title": false,
   "title_cell": "Table of Contents",
   "title_sidebar": "Contents",
   "toc_cell": false,
   "toc_position": {
    "height": "calc(100% - 180px)",
    "left": "10px",
    "top": "150px",
    "width": "230px"
   },
   "toc_section_display": true,
   "toc_window_display": false
  }
 },
 "nbformat": 4,
 "nbformat_minor": 5
}
